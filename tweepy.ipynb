{
  "nbformat": 4,
  "nbformat_minor": 0,
  "metadata": {
    "colab": {
      "name": "tweepy.ipynb",
      "provenance": [],
      "authorship_tag": "ABX9TyNxyxPHWU+4gjYda/0rjhoT",
      "include_colab_link": true
    },
    "kernelspec": {
      "display_name": "Python 3",
      "name": "python3"
    }
  },
  "cells": [
    {
      "cell_type": "markdown",
      "metadata": {
        "id": "view-in-github",
        "colab_type": "text"
      },
      "source": [
        "<a href=\"https://colab.research.google.com/github/Seiko-5/Extract-someone-s-tweet-using-tweepy/blob/main/tweepy.ipynb\" target=\"_parent\"><img src=\"https://colab.research.google.com/assets/colab-badge.svg\" alt=\"Open In Colab\"/></a>"
      ]
    },
    {
      "cell_type": "markdown",
      "metadata": {
        "id": "Dmjqzyv9cP3y"
      },
      "source": [
        "# Tweepy and Tkinter (for the GUI interface)"
      ]
    },
    {
      "cell_type": "code",
      "metadata": {
        "id": "TIjat86Mce0y",
        "colab": {
          "base_uri": "https://localhost:8080/"
        },
        "outputId": "df594540-67c0-40c0-8d4f-0e3269ebf5f8"
      },
      "source": [
        "pip install tweepy"
      ],
      "execution_count": null,
      "outputs": [
        {
          "output_type": "stream",
          "name": "stdout",
          "text": [
            "Requirement already satisfied: tweepy in /usr/local/lib/python3.7/dist-packages (3.10.0)\n",
            "Requirement already satisfied: requests[socks]>=2.11.1 in /usr/local/lib/python3.7/dist-packages (from tweepy) (2.23.0)\n",
            "Requirement already satisfied: requests-oauthlib>=0.7.0 in /usr/local/lib/python3.7/dist-packages (from tweepy) (1.3.0)\n",
            "Requirement already satisfied: six>=1.10.0 in /usr/local/lib/python3.7/dist-packages (from tweepy) (1.15.0)\n",
            "Requirement already satisfied: oauthlib>=3.0.0 in /usr/local/lib/python3.7/dist-packages (from requests-oauthlib>=0.7.0->tweepy) (3.1.1)\n",
            "Requirement already satisfied: urllib3!=1.25.0,!=1.25.1,<1.26,>=1.21.1 in /usr/local/lib/python3.7/dist-packages (from requests[socks]>=2.11.1->tweepy) (1.24.3)\n",
            "Requirement already satisfied: idna<3,>=2.5 in /usr/local/lib/python3.7/dist-packages (from requests[socks]>=2.11.1->tweepy) (2.10)\n",
            "Requirement already satisfied: chardet<4,>=3.0.2 in /usr/local/lib/python3.7/dist-packages (from requests[socks]>=2.11.1->tweepy) (3.0.4)\n",
            "Requirement already satisfied: certifi>=2017.4.17 in /usr/local/lib/python3.7/dist-packages (from requests[socks]>=2.11.1->tweepy) (2021.5.30)\n",
            "Requirement already satisfied: PySocks!=1.5.7,>=1.5.6 in /usr/local/lib/python3.7/dist-packages (from requests[socks]>=2.11.1->tweepy) (1.7.1)\n"
          ]
        }
      ]
    },
    {
      "cell_type": "code",
      "metadata": {
        "id": "FLpnm1KRcONj"
      },
      "source": [
        "import tweepy\n",
        "import pandas as pd"
      ],
      "execution_count": null,
      "outputs": []
    },
    {
      "cell_type": "markdown",
      "metadata": {
        "id": "jeYlTXpBqj3B"
      },
      "source": [
        "# Setting up Tweepy authorization:"
      ]
    },
    {
      "cell_type": "code",
      "metadata": {
        "id": "5d0FcwZMqY5q"
      },
      "source": [
        "consumer_key = 'AX6tjRad3cAIVFsl1ja8butzF'\n",
        "consumer_secret = 'HeHsKTmTotjRuFwVAYdzY2GusNOrfAlOQkzcM2N3e5NHuMt70p'\n",
        "access_token = '1319434006757134336-pPgwJmW2Qsi5nfXtuVA5cQ7yUvWJLY'\n",
        "access_token_secret = '5E2y7zeYhN9pdLNVgiPo1lXO1P3XBiCA80s1YTOQlzh1T'\n",
        "\n",
        "\n",
        "\n",
        "auth = tweepy.OAuthHandler(consumer_key, consumer_secret)\n",
        "auth.set_access_token(access_token, access_token_secret)\n",
        "api = tweepy.API(auth,wait_on_rate_limit=True)"
      ],
      "execution_count": null,
      "outputs": []
    },
    {
      "cell_type": "markdown",
      "metadata": {
        "id": "y9aI62DQgcv0"
      },
      "source": [
        "# Extracting"
      ]
    },
    {
      "cell_type": "code",
      "metadata": {
        "id": "oMGYx2J1_8ZL"
      },
      "source": [
        "text_query = '#melbournecup'   \n",
        "language = 'en'\n",
        "location = '-37.840935,144.946457,200km'     #latitide,longitude,radius\n",
        "count = 2000\n",
        "\n",
        "\n",
        "try:\n",
        "\n",
        "\n",
        " # Creation of query method using parameters\n",
        " tweets = tweepy.Cursor(api.search,q=text_query,lang=language,geocode=location,tweet_mode='extended').items(count)\n",
        " \n",
        " # Pulling information from tweets iterable object\n",
        " tweets_list = [[tweet.created_at,tweet.user.screen_name,tweet.full_text,tweet.user.location] for tweet in tweets]\n",
        " \n",
        " # Creation of dataframe from tweets list\n",
        " # Add or remove columns as you remove tweet information\n",
        " tweets_df = pd.DataFrame(tweets_list)\n",
        "\n",
        "\n",
        " \n",
        "except BaseException as e:\n",
        "    print('failed on_status,',str(e))\n",
        "    time.sleep(3)"
      ],
      "execution_count": null,
      "outputs": []
    },
    {
      "cell_type": "code",
      "metadata": {
        "id": "zUKSU-Z0xite",
        "colab": {
          "base_uri": "https://localhost:8080/",
          "height": 204
        },
        "outputId": "38bc21cf-14f8-4118-8dba-5d880f6ea53b"
      },
      "source": [
        "tweets_df.tail()"
      ],
      "execution_count": null,
      "outputs": [
        {
          "output_type": "execute_result",
          "data": {
            "text/html": [
              "<div>\n",
              "<style scoped>\n",
              "    .dataframe tbody tr th:only-of-type {\n",
              "        vertical-align: middle;\n",
              "    }\n",
              "\n",
              "    .dataframe tbody tr th {\n",
              "        vertical-align: top;\n",
              "    }\n",
              "\n",
              "    .dataframe thead th {\n",
              "        text-align: right;\n",
              "    }\n",
              "</style>\n",
              "<table border=\"1\" class=\"dataframe\">\n",
              "  <thead>\n",
              "    <tr style=\"text-align: right;\">\n",
              "      <th></th>\n",
              "      <th>0</th>\n",
              "      <th>1</th>\n",
              "      <th>2</th>\n",
              "      <th>3</th>\n",
              "    </tr>\n",
              "  </thead>\n",
              "  <tbody>\n",
              "    <tr>\n",
              "      <th>1273</th>\n",
              "      <td>2021-10-26 01:25:14</td>\n",
              "      <td>Mattys123</td>\n",
              "      <td>Ollie just wants another horse he can beat eas...</td>\n",
              "      <td>Melbourne, Australia.</td>\n",
              "    </tr>\n",
              "    <tr>\n",
              "      <th>1274</th>\n",
              "      <td>2021-10-25 23:45:49</td>\n",
              "      <td>AndrewIles83</td>\n",
              "      <td>Do we know if the horses at the Melbourne Cup ...</td>\n",
              "      <td>Melbourne, Victoria</td>\n",
              "    </tr>\n",
              "    <tr>\n",
              "      <th>1275</th>\n",
              "      <td>2021-10-25 22:21:59</td>\n",
              "      <td>Cullenshorses</td>\n",
              "      <td>#NaturalBeauty #FootscrayGardens Springing int...</td>\n",
              "      <td>Maribyrnong, Victoria</td>\n",
              "    </tr>\n",
              "    <tr>\n",
              "      <th>1276</th>\n",
              "      <td>2021-10-25 07:43:53</td>\n",
              "      <td>Racing</td>\n",
              "      <td>The #MelbourneCup Carnival was officially laun...</td>\n",
              "      <td>Melbourne, Australia</td>\n",
              "    </tr>\n",
              "    <tr>\n",
              "      <th>1277</th>\n",
              "      <td>2021-10-25 07:30:31</td>\n",
              "      <td>WatchDogRacing</td>\n",
              "      <td>ON THE WAY BACK\\n\\nON THE BIT (1), part-owned ...</td>\n",
              "      <td>Melbourne, Australia</td>\n",
              "    </tr>\n",
              "  </tbody>\n",
              "</table>\n",
              "</div>"
            ],
            "text/plain": [
              "                       0  ...                      3\n",
              "1273 2021-10-26 01:25:14  ...  Melbourne, Australia.\n",
              "1274 2021-10-25 23:45:49  ...   Melbourne, Victoria \n",
              "1275 2021-10-25 22:21:59  ...  Maribyrnong, Victoria\n",
              "1276 2021-10-25 07:43:53  ...   Melbourne, Australia\n",
              "1277 2021-10-25 07:30:31  ...   Melbourne, Australia\n",
              "\n",
              "[5 rows x 4 columns]"
            ]
          },
          "metadata": {},
          "execution_count": 5
        }
      ]
    },
    {
      "cell_type": "code",
      "metadata": {
        "id": "KvOEIRdNlFMU"
      },
      "source": [
        "tweets_df.to_csv(\"LXRP output.csv\", index=False)"
      ],
      "execution_count": null,
      "outputs": []
    }
  ]
}